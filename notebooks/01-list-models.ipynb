{
 "cells": [
  {
   "cell_type": "code",
   "execution_count": null,
   "id": "7650ac85",
   "metadata": {},
   "outputs": [],
   "source": [
    "import os\n",
    "import google.generativeai as genai\n",
    "from dotenv import load_dotenv\n",
    "\n",
    "# Load environment variables from the .env file in the parent directory\n",
    "# The .. specifies to go one directory up from /notebooks\n",
    "load_dotenv(dotenv_path='../.env')\n",
    "\n",
    "# Configure the API key\n",
    "genai.configure(api_key=os.getenv(\"GEMINI_API_KEY\"))\n",
    "\n",
    "print(\"Available models that support 'generateContent':\")\n",
    "print(\"---------------------------------------------\")\n",
    "\n",
    "# List all available models and filter them\n",
    "for model in genai.list_models():\n",
    "  # We only want models that support the 'generateContent' method\n",
    "  if 'generateContent' in model.supported_generation_methods:\n",
    "    print(model.name)"
   ]
  }
 ],
 "metadata": {
  "kernelspec": {
   "display_name": "PyTorch (Python 3.11)",
   "language": "python",
   "name": "pytorch"
  },
  "language_info": {
   "name": "python",
   "version": "3.11.11"
  }
 },
 "nbformat": 4,
 "nbformat_minor": 5
}
