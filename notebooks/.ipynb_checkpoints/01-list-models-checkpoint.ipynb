{
 "cells": [
  {
   "cell_type": "code",
   "execution_count": null,
   "id": "7650ac85",
   "metadata": {},
   "outputs": [],
   "source": []
  }
 ],
 "metadata": {
  "kernelspec": {
   "display_name": "PyTorch (Python 3.11)",
   "language": "python",
   "name": "pytorch"
  },
  "language_info": {
   "name": "python",
   "version": "3.11.11"
  }
 },
 "nbformat": 4,
 "nbformat_minor": 5
}
